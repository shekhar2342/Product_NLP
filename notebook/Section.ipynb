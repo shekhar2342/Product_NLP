{
 "cells": [
  {
   "cell_type": "markdown",
   "metadata": {},
   "source": [
    "#### 1. Loading required Libraries"
   ]
  },
  {
   "cell_type": "code",
   "execution_count": 1,
   "metadata": {},
   "outputs": [],
   "source": [
    "import numpy as np               # Linear Algebra\n",
    "import pandas as pd              # Data Handling\n",
    "import seaborn as sns            # Visualization\n",
    "import matplotlib.pyplot as plt  # Visualization\n",
    "from datetime import date        # Use Year\n",
    "import warnings                  # For warnings\n",
    "warnings.filterwarnings('ignore')"
   ]
  },
  {
   "cell_type": "markdown",
   "metadata": {},
   "source": [
    "#### 2. Importing dataset into 'df' dataframe"
   ]
  },
  {
   "cell_type": "code",
   "execution_count": 2,
   "metadata": {},
   "outputs": [
    {
     "data": {
      "text/html": [
       "<div><div id=a0675144-139f-4046-9c19-2d960cfd02b0 style=\"display:none; background-color:#9D6CFF; color:white; width:200px; height:30px; padding-left:5px; border-radius:4px; flex-direction:row; justify-content:space-around; align-items:center;\" onmouseover=\"this.style.backgroundColor='#BA9BF8'\" onmouseout=\"this.style.backgroundColor='#9D6CFF'\" onclick=\"window.commands?.execute('create-mitosheet-from-dataframe-output');\">See Full Dataframe in Mito</div> <script> if (window.commands.hasCommand('create-mitosheet-from-dataframe-output')) document.getElementById('a0675144-139f-4046-9c19-2d960cfd02b0').style.display = 'flex' </script> <table border=\"1\" class=\"dataframe\">\n",
       "  <thead>\n",
       "    <tr style=\"text-align: right;\">\n",
       "      <th></th>\n",
       "      <th>Category</th>\n",
       "      <th>SubCategory</th>\n",
       "      <th>ProductName</th>\n",
       "      <th>Description</th>\n",
       "    </tr>\n",
       "  </thead>\n",
       "  <tbody>\n",
       "    <tr>\n",
       "      <th>0</th>\n",
       "      <td>Accessories</td>\n",
       "      <td>Bags</td>\n",
       "      <td>\"Prada Striped Shell Belt Bag\"</td>\n",
       "      <td>\"One of Prada's most functional designs, this belt bag is made from weather-resistant shell fabric with zip compartments for storing your daily belongings. It's designed for navigating your day hands-free- try styling yours diagonally across the body.\"</td>\n",
       "    </tr>\n",
       "    <tr>\n",
       "      <th>1</th>\n",
       "      <td>Accessories</td>\n",
       "      <td>Socks</td>\n",
       "      <td>\"Falke - Lhasa Wool And Cashmere-blend Socks - Mens - Navy\"</td>\n",
       "      <td>\"Falke - Casual yet luxurious, Falke's dark navy Lhasa socks are woven from a mid-weight wool and cashmere-blend that's naturally insulating. They have a soft rib for comfort and reinforced stress zones for durability. Wear them to round off endless looks.\"</td>\n",
       "    </tr>\n",
       "    <tr>\n",
       "      <th>2</th>\n",
       "      <td>Suits</td>\n",
       "      <td>Tuxedos</td>\n",
       "      <td>\"peak lapel tuxedo suit jacket\"</td>\n",
       "      <td>\"White and black linen blend peak lapel tuxedo suit jacket from Tagliatore featuring a two tone design, peaked lapels, long sleeves, a button fastening, front pockets and a curved hemline. \"</td>\n",
       "    </tr>\n",
       "    <tr>\n",
       "      <th>3</th>\n",
       "      <td>Accessories</td>\n",
       "      <td>Gloves</td>\n",
       "      <td>\"Thom Browne Navy 4-Bar Rib Gloves\"</td>\n",
       "      <td>\"Pair of rib knit cashmere gloves in navy. Signature stripes in off-white and signature tricolor grosgrain flag at cuffs. Supplier color: NavySupplier textile: Cashmere\"</td>\n",
       "    </tr>\n",
       "    <tr>\n",
       "      <th>4</th>\n",
       "      <td>Accessories</td>\n",
       "      <td>Cufflinks</td>\n",
       "      <td>\"Alice Made This - Bayley Round Patina-brass Cufflinks - Mens - Blue\"</td>\n",
       "      <td>\"Alice Made This - Made in the UK, these teal Bayley cufflinks from Alice Made This are designed to reflect traditional British engineering. Crafted from gold-tone solid brass, they are characterised with layers of patina hand-applied by London-based artist Derek Bayley for a sleek, refined finish.\"</td>\n",
       "    </tr>\n",
       "  </tbody>\n",
       "</table></div>"
      ],
      "text/plain": [
       "      Category SubCategory                                        ProductName  \\\n",
       "0  Accessories        Bags                     \"Prada Striped Shell Belt Bag\"   \n",
       "1  Accessories       Socks  \"Falke - Lhasa Wool And Cashmere-blend Socks -...   \n",
       "2        Suits     Tuxedos                    \"peak lapel tuxedo suit jacket\"   \n",
       "3  Accessories      Gloves                \"Thom Browne Navy 4-Bar Rib Gloves\"   \n",
       "4  Accessories   Cufflinks  \"Alice Made This - Bayley Round Patina-brass C...   \n",
       "\n",
       "                                         Description  \n",
       "0  \"One of Prada's most functional designs, this ...  \n",
       "1  \"Falke - Casual yet luxurious, Falke's dark na...  \n",
       "2  \"White and black linen blend peak lapel tuxedo...  \n",
       "3  \"Pair of rib knit cashmere gloves in navy. Sig...  \n",
       "4  \"Alice Made This - Made in the UK, these teal ...  "
      ]
     },
     "execution_count": 2,
     "metadata": {},
     "output_type": "execute_result"
    }
   ],
   "source": [
    "df = pd.read_csv(\"../datasets/dataset.csv\")\n",
    "df = df.iloc[:,1:]\n",
    "df.head()"
   ]
  },
  {
   "cell_type": "markdown",
   "metadata": {},
   "source": [
    "#### 3. Description of Dataset"
   ]
  },
  {
   "cell_type": "markdown",
   "metadata": {},
   "source": [
    "##### 3.1 Shape of Dataset"
   ]
  },
  {
   "cell_type": "code",
   "execution_count": 3,
   "metadata": {},
   "outputs": [
    {
     "name": "stdout",
     "output_type": "stream",
     "text": [
      "There are \u001b[1m 5000 rows\\patterns \u001b[0m and \u001b[1m4 features\u001b[0m.\n"
     ]
    }
   ],
   "source": [
    "shape = df.shape\n",
    "print(f\"There are \\033[1m {shape[0]} rows\\patterns \\033[0m and \\033[1m{shape[1]} features\\033[0m.\")"
   ]
  },
  {
   "cell_type": "markdown",
   "metadata": {},
   "source": [
    "##### 3.2 info"
   ]
  },
  {
   "cell_type": "code",
   "execution_count": 4,
   "metadata": {},
   "outputs": [
    {
     "name": "stdout",
     "output_type": "stream",
     "text": [
      "<class 'pandas.core.frame.DataFrame'>\n",
      "RangeIndex: 5000 entries, 0 to 4999\n",
      "Data columns (total 4 columns):\n",
      " #   Column       Non-Null Count  Dtype \n",
      "---  ------       --------------  ----- \n",
      " 0   Category     4963 non-null   object\n",
      " 1   SubCategory  4963 non-null   object\n",
      " 2   ProductName  5000 non-null   object\n",
      " 3   Description  5000 non-null   object\n",
      "dtypes: object(4)\n",
      "memory usage: 156.4+ KB\n"
     ]
    }
   ],
   "source": [
    "df.info()"
   ]
  },
  {
   "cell_type": "markdown",
   "metadata": {},
   "source": [
    "##### 3.3 Missing Values for features"
   ]
  },
  {
   "cell_type": "code",
   "execution_count": 5,
   "metadata": {},
   "outputs": [
    {
     "data": {
      "text/plain": [
       "[['Category', 37], ['SubCategory', 37]]"
      ]
     },
     "execution_count": 5,
     "metadata": {},
     "output_type": "execute_result"
    }
   ],
   "source": [
    "[[features,df[features].isnull().sum()] for features in df.columns if df[features].isnull().sum()>0]"
   ]
  },
  {
   "cell_type": "markdown",
   "metadata": {},
   "source": [
    "##### 3.4 Heat Map for Missing Values"
   ]
  },
  {
   "cell_type": "code",
   "execution_count": 6,
   "metadata": {},
   "outputs": [
    {
     "data": {
      "image/png": "[encoded data removed]",
      "text/plain": [
       "<Figure size 576x360 with 1 Axes>"
      ]
     },
     "metadata": {},
     "output_type": "display_data"
    }
   ],
   "source": [
    "fig = sns.set(rc={'figure.figsize': (8, 5)})\n",
    "plt.title(\"Heat Map for Missing Values\")\n",
    "sns.heatmap(df.isnull(),yticklabels=False,cbar=False,cmap='viridis')\n",
    "plt.show()"
   ]
  },
  {
   "cell_type": "markdown",
   "metadata": {},
   "source": [
    "##### 3.5 Dropping NA values"
   ]
  },
  {
   "cell_type": "code",
   "execution_count": 7,
   "metadata": {},
   "outputs": [],
   "source": [
    "df.dropna(inplace=True)"
   ]
  },
  {
   "cell_type": "markdown",
   "metadata": {},
   "source": [
    "#### 4. Exploratory Data Analysis"
   ]
  },
  {
   "cell_type": "code",
   "execution_count": 8,
   "metadata": {},
   "outputs": [
    {
     "data": {
      "image/png": "[encoded data removed]",
      "text/plain": [
       "<Figure size 1440x720 with 1 Axes>"
      ]
     },
     "metadata": {},
     "output_type": "display_data"
    }
   ],
   "source": [
    "fig = sns.set(rc={'figure.figsize': (8, 5)})\n",
    "plt.figure(figsize=(20,10))\n",
    "sns.countplot(x=df['Category'])\n",
    "plt.show()"
   ]
  },
  {
   "cell_type": "code",
   "execution_count": 9,
   "metadata": {},
   "outputs": [
    {
     "data": {
      "image/png": "[encoded data removed]",
      "text/plain": [
       "<Figure size 3600x1440 with 1 Axes>"
      ]
     },
     "metadata": {},
     "output_type": "display_data"
    }
   ],
   "source": [
    "plt.figure(figsize=(50,20))\n",
    "sns.countplot(x=df['SubCategory'])\n",
    "plt.show()"
   ]
  },
  {
   "cell_type": "markdown",
   "metadata": {},
   "source": [
    "#### 5. Text Preprocessing"
   ]
  },
  {
   "cell_type": "code",
   "execution_count": 10,
   "metadata": {},
   "outputs": [],
   "source": [
    "df.drop(['SubCategory'],axis=1,inplace=True)"
   ]
  },
  {
   "cell_type": "code",
   "execution_count": 11,
   "metadata": {},
   "outputs": [],
   "source": [
    "import re\n",
    "\n",
    "import nltk\n",
    "from nltk.corpus import stopwords\n",
    "from nltk.stem import PorterStemmer\n",
    "from nltk.stem import WordNetLemmatizer"
   ]
  },
  {
   "cell_type": "code",
   "execution_count": null,
   "metadata": {},
   "outputs": [],
   "source": [
    "A Sreatlit WebApp that can predict Product Category by providing Procut Name and Product Description.\n",
    "1. Text Preprocessing-\n",
    "    a. Stopwords Removal\n",
    "    b. Stemmer\n",
    "    c. Lemmatizition"
   ]
  },
  {
   "cell_type": "code",
   "execution_count": 12,
   "metadata": {},
   "outputs": [
    {
     "name": "stderr",
     "output_type": "stream",
     "text": [
      "[nltk_data] Downloading package stopwords to\n",
      "[nltk_data]     C:\\Users\\yoges\\AppData\\Roaming\\nltk_data...\n",
      "[nltk_data]   Package stopwords is already up-to-date!\n",
      "[nltk_data] Downloading package wordnet to\n",
      "[nltk_data]     C:\\Users\\yoges\\AppData\\Roaming\\nltk_data...\n",
      "[nltk_data]   Package wordnet is already up-to-date!\n",
      "[nltk_data] Downloading package omw-1.4 to\n",
      "[nltk_data]     C:\\Users\\yoges\\AppData\\Roaming\\nltk_data...\n",
      "[nltk_data]   Package omw-1.4 is already up-to-date!\n"
     ]
    },
    {
     "data": {
      "text/plain": [
       "True"
      ]
     },
     "execution_count": 12,
     "metadata": {},
     "output_type": "execute_result"
    }
   ],
   "source": [
    "nltk.download('stopwords')\n",
    "nltk.download('wordnet')\n",
    "nltk.download('omw-1.4')"
   ]
  },
  {
   "cell_type": "code",
   "execution_count": 13,
   "metadata": {},
   "outputs": [],
   "source": [
    "def pre(q):\n",
    "    stpwrd = nltk.corpus.stopwords.words('english')\n",
    "    \n",
    "    STOP_WORDS =stopwords.words(\"english\")\n",
    "    q =re.sub(r'[^A-Za-z]', \" \",str(q))\n",
    "    q =q.lower().split()\n",
    "    clean =[]\n",
    "    for word in q:\n",
    "        if word not in stpwrd:\n",
    "            clean.append(word)\n",
    "    tx =WordNetLemmatizer()\n",
    "    root =[ ]\n",
    "    for word in clean:\n",
    "        word = tx.lemmatize(word)\n",
    "        root.append(word)\n",
    "    return \" \".join(root)"
   ]
  },
  {
   "cell_type": "code",
   "execution_count": 14,
   "metadata": {},
   "outputs": [],
   "source": [
    "df['Description']=df['Description'].apply(pre)\n",
    "df['ProductName']=df['ProductName'].apply(pre)"
   ]
  },
  {
   "cell_type": "markdown",
   "metadata": {},
   "source": [
    "#### 6. Pipeline"
   ]
  },
  {
   "cell_type": "code",
   "execution_count": 15,
   "metadata": {},
   "outputs": [],
   "source": [
    "from sklearn import metrics\n",
    "from sklearn.feature_extraction.text import TfidfVectorizer \n",
    "from sklearn.feature_extraction.text import CountVectorizer\n",
    "from sklearn.compose import ColumnTransformer\n",
    "from sklearn.pipeline import Pipeline\n",
    "from sklearn.ensemble import RandomForestClassifier\n",
    "from sklearn.model_selection import train_test_split"
   ]
  },
  {
   "cell_type": "code",
   "execution_count": 16,
   "metadata": {},
   "outputs": [],
   "source": [
    "X=df.drop('Category',axis=1)\n",
    "y= df['Category']"
   ]
  },
  {
   "cell_type": "code",
   "execution_count": 17,
   "metadata": {},
   "outputs": [],
   "source": [
    "X_train, X_test, y_train, y_test = train_test_split(X, y, test_size=0.33, random_state=42)"
   ]
  },
  {
   "cell_type": "code",
   "execution_count": 18,
   "metadata": {},
   "outputs": [],
   "source": [
    "vectorizer1 = TfidfVectorizer(use_idf=True,\n",
    "    ngram_range=(1,2),\n",
    "    sublinear_tf=False,\n",
    "    max_df=0.5,\n",
    "    min_df=5)"
   ]
  },
  {
   "cell_type": "code",
   "execution_count": 19,
   "metadata": {},
   "outputs": [],
   "source": [
    "tfidf_transformer = ColumnTransformer(\n",
    "    transformers= [\n",
    "        (\"tfidf_1\", vectorizer1, \"Description\"),\n",
    "        (\"tfidf_2\", vectorizer1, \"ProductName\")\n",
    "        ]\n",
    "    )\n",
    " \n",
    "Rfc = Pipeline(\n",
    "    steps=[\n",
    "        (\"prep\", tfidf_transformer), \n",
    "        (\"model\", RandomForestClassifier(n_estimators = 100, random_state = 0))])\n",
    "\n",
    "Rfc.fit(X_train, y_train)\n",
    "y_pred = Rfc.predict(X_test)"
   ]
  },
  {
   "cell_type": "markdown",
   "metadata": {},
   "source": [
    "#### 7. Evaluation"
   ]
  },
  {
   "cell_type": "code",
   "execution_count": 20,
   "metadata": {},
   "outputs": [
    {
     "name": "stdout",
     "output_type": "stream",
     "text": [
      "Accuracy: 94.69999999999999 %\n",
      "\n"
     ]
    }
   ],
   "source": [
    "accuracy = round(metrics.accuracy_score(y_test, y_pred), 3)\n",
    "print(f\"Accuracy: {accuracy*100} %\\n\")"
   ]
  },
  {
   "cell_type": "code",
   "execution_count": 21,
   "metadata": {},
   "outputs": [
    {
     "name": "stdout",
     "output_type": "stream",
     "text": [
      "Classification Report: \n",
      "                          precision    recall  f1-score   support\n",
      "\n",
      "            Accessories       0.95      0.99      0.97       407\n",
      "             Activewear       0.91      0.87      0.89       178\n",
      "          Jackets/Coats       0.95      0.91      0.93        91\n",
      "                Jewelry       1.00      0.76      0.86        41\n",
      "                  Pants       0.93      0.92      0.92       192\n",
      "                 Shirts       0.92      0.97      0.95       197\n",
      "                  Shoes       0.98      1.00      0.99       339\n",
      "                  Suits       0.98      0.92      0.95        60\n",
      "               Sweaters       0.95      0.82      0.88        50\n",
      "Underwear and Nightwear       0.95      0.94      0.95        83\n",
      "\n",
      "               accuracy                           0.95      1638\n",
      "              macro avg       0.95      0.91      0.93      1638\n",
      "           weighted avg       0.95      0.95      0.95      1638\n",
      "\n"
     ]
    }
   ],
   "source": [
    "print(\"Classification Report: \\n\", metrics.classification_report(y_test, y_pred))"
   ]
  },
  {
   "cell_type": "markdown",
   "metadata": {},
   "source": [
    "#### 8. Dumping into pickle"
   ]
  },
  {
   "cell_type": "code",
   "execution_count": 22,
   "metadata": {},
   "outputs": [],
   "source": [
    "import pickle\n",
    "\n",
    "data = {\"rfc\": Rfc}\n",
    "\n",
    "pickle.dump(data,open('../pickle/model.pkl','wb'))"
   ]
  }
 ],
 "metadata": {
  "kernelspec": {
   "display_name": "Python 3 (ipykernel)",
   "language": "python",
   "name": "python3"
  },
  "language_info": {
   "codemirror_mode": {
    "name": "ipython",
    "version": 3
   },
   "file_extension": ".py",
   "mimetype": "text/x-python",
   "name": "python",
   "nbconvert_exporter": "python",
   "pygments_lexer": "ipython3",
   "version": "3.10.0"
  },
  "vscode": {
   "interpreter": {
    "hash": "047976390af2d9403fab5ce94307ebe5f869684ebfc126a3f18fdb79ce1617e6"
   }
  }
 },
 "nbformat": 4,
 "nbformat_minor": 2
}
